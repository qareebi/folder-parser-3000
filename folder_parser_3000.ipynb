{
  "nbformat": 4,
  "nbformat_minor": 0,
  "metadata": {
    "colab": {
      "name": "folder-parser-3000.ipynb",
      "provenance": [],
      "collapsed_sections": [],
      "authorship_tag": "ABX9TyNSlPPLBnoYDSfCJ3cFz1MA",
      "include_colab_link": true
    },
    "kernelspec": {
      "name": "python3",
      "display_name": "Python 3"
    },
    "language_info": {
      "name": "python"
    }
  },
  "cells": [
    {
      "cell_type": "markdown",
      "metadata": {
        "id": "view-in-github",
        "colab_type": "text"
      },
      "source": [
        "<a href=\"https://colab.research.google.com/github/qareebi/folder-parser-3000/blob/main/folder_parser_3000.ipynb\" target=\"_parent\"><img src=\"https://colab.research.google.com/assets/colab-badge.svg\" alt=\"Open In Colab\"/></a>"
      ]
    },
    {
      "cell_type": "markdown",
      "metadata": {
        "id": "F8yepFybciqJ"
      },
      "source": [
        "authorise gdrive"
      ]
    },
    {
      "cell_type": "code",
      "metadata": {
        "id": "ivCDJTmh2FiD"
      },
      "source": [
        "#@markdown <br><center><img src='https://upload.wikimedia.org/wikipedia/commons/thumb/d/da/Google_Drive_logo.png/600px-Google_Drive_logo.png' height=\"50\" alt=\"Gdrive-logo\"/></center>\n",
        "#@markdown <center><h3>Mount GDrive to /content/drive</h3></center><br>\n",
        "MODE = \"UNMOUNT\" #@param [\"MOUNT\", \"UNMOUNT\"]\n",
        "#Mount your Gdrive! \n",
        "from google.colab import drive\n",
        "drive.mount._DEBUG = False\n",
        "if MODE == \"MOUNT\":\n",
        "  drive.mount('/content/drive', force_remount=True)\n",
        "elif MODE == \"UNMOUNT\":\n",
        "  try:\n",
        "    drive.flush_and_unmount()\n",
        "  except ValueError:\n",
        "    pass\n",
        "  get_ipython().system_raw(\"rm -rf /root/.config/Google/DriveFS\")"
      ],
      "execution_count": 48,
      "outputs": []
    },
    {
      "cell_type": "markdown",
      "metadata": {
        "id": "3J8wrX7Mcpsh"
      },
      "source": [
        "unzip submission to loopdir/"
      ]
    },
    {
      "cell_type": "code",
      "metadata": {
        "id": "5pfRprOB5vDm"
      },
      "source": [
        "!unzip '/content/drive/MyDrive/dravy.zip' -d '/content/drive/MyDrive/loopdir/dravy'\n"
      ],
      "execution_count": null,
      "outputs": []
    },
    {
      "cell_type": "markdown",
      "metadata": {
        "id": "VT5x7tDpcxqG"
      },
      "source": [
        "build list of files in all subdirectories"
      ]
    },
    {
      "cell_type": "code",
      "metadata": {
        "id": "5pQSyBYC5Hgx"
      },
      "source": [
        "import os\n",
        "from fnmatch import fnmatch\n",
        "root=\"/content/drive/MyDrive/loopdir/dravy\"\n",
        "pattern = \"*.wav\"\n",
        "fildir=[]\n",
        "flsdict={}\n",
        "durdata={}\n",
        "for path, subdirs, files in os.walk(root):\n",
        "    for name in files:\n",
        "        if fnmatch(name, pattern):\n",
        "            fildir.append(os.path.join(path, name))\n",
        "print(fildir)"
      ],
      "execution_count": null,
      "outputs": []
    },
    {
      "cell_type": "markdown",
      "metadata": {
        "id": "nW-GMcwSc5Jy"
      },
      "source": [
        "folder-parser-3000"
      ]
    },
    {
      "cell_type": "code",
      "metadata": {
        "id": "7manaPDJOY6x"
      },
      "source": [
        "import pandas as pd\n",
        "\n",
        "flst=[ fildir[i][len(root):] for i in range(len(fildir)) if (fildir[i][len(root):].split(\"/\")[3]).split()[0] != \"SFX\"]\n",
        "sfx=[fildir[i][len(root):] for i in range(len(fildir)) if (fildir[i][len(root):].split(\"/\")[3]).split()[0] == \"SFX\"]\n",
        "\n",
        "instrumentrole=[loop.split(\"/\")[3].split()[0] for loop in flst if loop.split(\"/\")[3].split()[0] != \"catagory\" ]\n",
        "moods=[loop.split(\"/\")[4].split(\"_\")[0] for loop in flst]\n",
        "genre=[loop.split(\"/\")[4].split(\"_\")[1] for loop in flst]\n",
        "tempo=[int(loop.split(\"/\")[4].split(\"_\")[2]) for loop in flst]\n",
        "key=[loop.split(\"/\")[4].split(\"_\")[3] for loop in flst]\n",
        "        \n",
        "flsdict[\"filenames\"]=flst\n",
        "flsdict[\"instrument role\"]=instrumentrole\n",
        "flsdict[\"tempo (in bpm)\"]=tempo\n",
        "flsdict[\"key\"]=key\n",
        "flsdict[\"moods\"]=moods\n",
        "flsdict[\"genre\"]=genre\n",
        "\n",
        "for sfxs in sfx:\n",
        "    flsdict[\"filenames\"].append(sfxs)\n",
        "    flsdict[\"instrument role\"].append(\"SFX\")\n",
        "    flsdict[\"tempo (in bpm)\"].append(\"\")\n",
        "    flsdict[\"key\"].append(\"\")\n",
        "    flsdict[\"moods\"].append(\"\")\n",
        "    flsdict[\"genre\"].append(\"\")\n",
        "\n",
        "df=pd.DataFrame.from_dict(flsdict)\n",
        "df.to_csv(\"/content/sample_data/dravy.csv\", index=False)"
      ],
      "execution_count": 47,
      "outputs": []
    }
  ]
}